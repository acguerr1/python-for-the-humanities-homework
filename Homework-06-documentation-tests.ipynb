{
 "cells": [
  {
   "cell_type": "markdown",
   "metadata": {},
   "source": [
    "# Assignment 1\n",
    "\n",
    "Create a doc folder in your homework repository on GitHub. Enable GitHub pages and set it to use the docs folder. Add an index.md file and a second file. Put some text in both files using Markdown. Include at least 2 types of headings, a list and a code snipped (e.g. from one of you homeworks). Add a link from the index.md file to your second file."
   ]
  },
  {
   "cell_type": "code",
   "execution_count": null,
   "metadata": {},
   "outputs": [],
   "source": [
    "# nothing to code here"
   ]
  },
  {
   "cell_type": "markdown",
   "metadata": {},
   "source": [
    "# Assignment 2\n",
    "\n",
    "Write a test case for the `count_words` method in the following class."
   ]
  },
  {
   "cell_type": "code",
   "execution_count": 29,
   "metadata": {},
   "outputs": [
    {
     "name": "stderr",
     "output_type": "stream",
     "text": [
      "."
     ]
    },
    {
     "name": "stdout",
     "output_type": "stream",
     "text": [
      "{'betty': 2, 'botter': 2, 'bought': 2, 'some': 1, 'butter': 3, 'but': 2, 'she': 1, 'said': 1, 'the': 1, 'butter’s': 1, 'bitter': 2, 'if': 1, 'i': 1, 'put': 1, 'it': 3, 'in': 1, 'my': 3, 'batter': 3, 'will': 2, 'make': 2, 'a': 2, 'bit': 2, 'of': 2, 'better': 4, 'so': 1, 'was': 1}\n"
     ]
    },
    {
     "name": "stderr",
     "output_type": "stream",
     "text": [
      "\n",
      "----------------------------------------------------------------------\n",
      "Ran 1 test in 0.001s\n",
      "\n",
      "OK\n"
     ]
    },
    {
     "data": {
      "text/plain": [
       "<unittest.main.TestProgram at 0x10fbcd3c8>"
      ]
     },
     "execution_count": 29,
     "metadata": {},
     "output_type": "execute_result"
    }
   ],
   "source": [
    "class TextStats:\n",
    "    \n",
    "    def __init__(self, text):\n",
    "        self.text = text\n",
    "        \n",
    "    def count_words(self):\n",
    "        words = self.text.split(\" \")\n",
    "        counts = {}\n",
    "        for word in words:\n",
    "            if word.endswith(\".\") or word.endswith(\",\"):\n",
    "                word = word[:-1]\n",
    "            word = word.lower()\n",
    "            if word not in counts:\n",
    "                counts[word] = 1\n",
    "            else:\n",
    "                counts[word] += 1\n",
    "        return counts\n",
    "                \n",
    "text = \"Betty Botter bought some butter. But she said the butter’s bitter. If I put it in my batter, it will make my batter bitter. But a bit of better butter will make my batter better. So it was better Betty Botter bought a bit of better butter.\"\n",
    "\n",
    "stat = TextStats(text)\n",
    "stat_fin = (stat.count_words())\n",
    "print(stat_fin)\n",
    "\n",
    "\n",
    "import unittest\n",
    "\n",
    "#test case: this test cases makes sure the counter works by comparing the result to the correct count.\n",
    "class TestCountWords(unittest.TestCase):\n",
    "    \n",
    "    def test_count_words(self):\n",
    "        expected_result = {'betty': 2, 'botter': 2, 'bought': 2, 'some': 1, 'butter': 3, 'but': 2, 'she': 1, 'said': 1, 'the': 1, 'butter’s': 1, 'bitter': 2, 'if': 1, 'i': 1, 'put': 1, 'it': 3, 'in': 1, 'my': 3, 'batter': 3, 'will': 2, 'make': 2, 'a': 2, 'bit': 2, 'of': 2, 'better': 4, 'so': 1, 'was': 1}\n",
    "        self.assertEqual(stat_fin, expected_result)\n",
    "\n",
    "unittest.main(argv=[''], exit=False)"
   ]
  },
  {
   "cell_type": "markdown",
   "metadata": {},
   "source": [
    "# Assignment 3\n",
    "\n",
    "Start working on your project. Create a GitHub repository for your code. Commit and push your work. You should have at least started on your code, so that we can see an overall plan for your project. Send Ken and Julia the link to your repository."
   ]
  },
  {
   "cell_type": "code",
   "execution_count": null,
   "metadata": {},
   "outputs": [],
   "source": [
    "# should be in separate repository."
   ]
  }
 ],
 "metadata": {
  "kernelspec": {
   "display_name": "Python 3",
   "language": "python",
   "name": "python3"
  },
  "language_info": {
   "codemirror_mode": {
    "name": "ipython",
    "version": 3
   },
   "file_extension": ".py",
   "mimetype": "text/x-python",
   "name": "python",
   "nbconvert_exporter": "python",
   "pygments_lexer": "ipython3",
   "version": "3.7.3"
  }
 },
 "nbformat": 4,
 "nbformat_minor": 2
}
