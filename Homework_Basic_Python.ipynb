{
 "cells": [
  {
   "cell_type": "markdown",
   "metadata": {},
   "source": [
    "## Assignment 1\n",
    "\n",
    "Calculate the sum of all the squared numbers from 1 to 100. Keep in mind that the `range()` function excludes the given upper limit."
   ]
  },
  {
   "cell_type": "code",
   "execution_count": 1,
   "metadata": {},
   "outputs": [
    {
     "name": "stdout",
     "output_type": "stream",
     "text": [
      "385\n"
     ]
    }
   ],
   "source": [
    "uno = [d**2 for d in range(1,11)]\n",
    "#print(uno)\n",
    "print(sum(uno))"
   ]
  },
  {
   "cell_type": "markdown",
   "metadata": {},
   "source": [
    "## Assignment 2\n",
    "\n",
    "Calculate the sum of all the numbers in an array. There are multiple ways of doing this, choose any you like."
   ]
  },
  {
   "cell_type": "code",
   "execution_count": 19,
   "metadata": {},
   "outputs": [
    {
     "name": "stdout",
     "output_type": "stream",
     "text": [
      "Length of array: 4\n",
      "enter number 4\n",
      "enter number 4\n",
      "enter number 4\n",
      "enter number 4\n",
      "Sum of numbers is this array is 16\n"
     ]
    }
   ],
   "source": [
    "dos = []\n",
    "num = int(input('Length of array: '))\n",
    "for n in range(num):\n",
    "        numbers=(int(input('enter number ')))\n",
    "        dos.append(numbers)\n",
    "print('Sum of numbers is this array is', sum(dos))"
   ]
  },
  {
   "cell_type": "markdown",
   "metadata": {},
   "source": [
    "## Assignment 3\n",
    "\n",
    "Adding to assignment 2, implement the same functionality but allow the array to be a mix of numbers and numbers represented as strings, e.g. [1, 5, '7', 5, '10']."
   ]
  },
  {
   "cell_type": "code",
   "execution_count": 45,
   "metadata": {},
   "outputs": [
    {
     "name": "stdout",
     "output_type": "stream",
     "text": [
      "Length of array: 3\n",
      "enter number or string 3\n",
      "enter number or string '4'\n",
      "enter number or string 4\n",
      "['3', \"'4'\", '4']\n"
     ]
    }
   ],
   "source": [
    "import numpy as np\n",
    "tres=[]\n",
    "num = int(input('Length of array: '))\n",
    "for n in range(num):\n",
    "        numbers=(input('enter number or string '))\n",
    "        tres.append(numbers)\n",
    "print(tres)"
   ]
  },
  {
   "cell_type": "markdown",
   "metadata": {},
   "source": [
    "### Assignment 4\n",
    "\n",
    "Let's build a small database program. The goal is to let the user build a database of pets. The database is a dictionary, in which a pet's name acts as the key and the value holds the type of animal (e.g. 'kitty': 'cat'). We'll assume that no two animals have the same name. Use a `while` loop to allow a user to add entries by first asking for the name of the pet and then for its type. Then ask the user if they want to add another entry.\n",
    "    \n",
    "*Tip*: the while loop condition can be a statement such as variables equals or does not equal a value."
   ]
  },
  {
   "cell_type": "code",
   "execution_count": 29,
   "metadata": {},
   "outputs": [
    {
     "ename": "SyntaxError",
     "evalue": "invalid syntax (<ipython-input-29-0dc388d5e7be>, line 6)",
     "output_type": "error",
     "traceback": [
      "\u001b[0;36m  File \u001b[0;32m\"<ipython-input-29-0dc388d5e7be>\"\u001b[0;36m, line \u001b[0;32m6\u001b[0m\n\u001b[0;31m    reply = input('Type 'yes' to add another pet: ')\u001b[0m\n\u001b[0m                           ^\u001b[0m\n\u001b[0;31mSyntaxError\u001b[0m\u001b[0;31m:\u001b[0m invalid syntax\n"
     ]
    }
   ],
   "source": [
    "while True:\n",
    "    name = input('animal name?: ')\n",
    "    type = input('animal type?: ')\n",
    "    pets = {}\n",
    "    pets[name] = type\n",
    "    reply = input('Type 'done' to add another pet: ')\n",
    "    if reply == 'yes':\n",
    "        break\n",
    "                  \n",
    "print(pets)"
   ]
  },
  {
   "cell_type": "markdown",
   "metadata": {},
   "source": [
    "## Assignment 5\n",
    "\n",
    "Split a list of unknown length into 4 equal sized parts. You can make the assumption that the length of the list is a multiple of 4. Print the resulting lists.\n",
    "\n",
    "*Tip*: A list can contain multiple lists."
   ]
  },
  {
   "cell_type": "code",
   "execution_count": 25,
   "metadata": {},
   "outputs": [
    {
     "ename": "SyntaxError",
     "evalue": "invalid syntax (<ipython-input-25-355355ad808a>, line 1)",
     "output_type": "error",
     "traceback": [
      "\u001b[0;36m  File \u001b[0;32m\"<ipython-input-25-355355ad808a>\"\u001b[0;36m, line \u001b[0;32m1\u001b[0m\n\u001b[0;31m    while True\u001b[0m\n\u001b[0m              ^\u001b[0m\n\u001b[0;31mSyntaxError\u001b[0m\u001b[0;31m:\u001b[0m invalid syntax\n"
     ]
    }
   ],
   "source": []
  },
  {
   "cell_type": "code",
   "execution_count": null,
   "metadata": {},
   "outputs": [],
   "source": [
    "leest=[]\n",
    "num = int(input('Length of array: '))\n",
    "for n in range(num):\n",
    "        numbers=(int(input('enter list item: ')))"
   ]
  },
  {
   "cell_type": "code",
   "execution_count": null,
   "metadata": {},
   "outputs": [],
   "source": []
  }
 ],
 "metadata": {
  "kernelspec": {
   "display_name": "Python 3",
   "language": "python",
   "name": "python3"
  },
  "language_info": {
   "codemirror_mode": {
    "name": "ipython",
    "version": 3
   },
   "file_extension": ".py",
   "mimetype": "text/x-python",
   "name": "python",
   "nbconvert_exporter": "python",
   "pygments_lexer": "ipython3",
   "version": "3.7.3"
  }
 },
 "nbformat": 4,
 "nbformat_minor": 4
}
