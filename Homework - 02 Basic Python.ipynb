{
 "cells": [
  {
   "cell_type": "markdown",
   "metadata": {},
   "source": [
    "# Assignment 1\n",
    "\n",
    "Create a dictionary of items a grocery store has. The keys of the dictionary should be the name of the item and the value should be the price (as numbers e.g. 2.5, 6, or 11.54). Write a loop that asks the user to enter an item. If that item exists in the dictionary add the item to a list called \"basket\". You can represent each item as a tuple (<item>, <price>). The user should be able to enter \"done\" to exit the loop. After the loop has finished, print the list of items bought, the price for each, and the total price for every thing in the basket."
   ]
  },
  {
   "cell_type": "code",
   "execution_count": 19,
   "metadata": {},
   "outputs": [
    {
     "name": "stdout",
     "output_type": "stream",
     "text": [
      "enter 'done' to exit loop\n",
      "enter a grocery item you want to buy: corn\n",
      "Added to basket\n",
      "enter a grocery item you want to buy: grapes\n",
      "Added to basket\n",
      "enter a grocery item you want to buy: done\n",
      "thanks for shopping\n",
      "in your basket['corn', 'grapes']\n",
      "cost of items: [2.5, 11.54]\n",
      "14.04\n"
     ]
    }
   ],
   "source": [
    "store = {\"corn\": 2.5, \"greenbeans\":6, \"grapes\":11.54}\n",
    "basket=[]\n",
    "\n",
    "print(\"enter 'done' to exit loop\")\n",
    "\n",
    "while True:\n",
    "    item = input(\"enter a grocery item you want to buy: \")\n",
    "    if item == \"done\":\n",
    "        print('thanks for shopping')\n",
    "        print('in your basket' + str(basket))\n",
    "        A=[store[x] for x in basket]\n",
    "        print('cost of items: ' + str(A))\n",
    "        print(sum(A))\n",
    "        break\n",
    "    if item in store:\n",
    "        basket.append(item)\n",
    "        print(\"Added to basket\")\n",
    "    if item not in store:\n",
    "        print(\"Sorry, we don't have \"+ item)"
   ]
  },
  {
   "cell_type": "markdown",
   "metadata": {},
   "source": [
    "# Assignment 2\n",
    "\n",
    "Let's play some Black Jack. There are two players: the computer and the user. For each player create a list. Give each player a new card by generating a random number between 1 and 11 (I know this is simplified by works for this exercise) and print the number for the user. Then in a loop, ask the user \"Do you want another card?\". If the user says yes, generate another number for both players and print the number for the user. If the numbers for either player add up to 21 that player has won. Leave the loop and print who has won. If the numbers add up to more than 21, that player has lost. Leave the loop and print who has lost. Otherwise, continue with the next iteration. If the user says \"No\" to the question if they want another card, exit the loop. The player with the higher total wins. Print the winner."
   ]
  },
  {
   "cell_type": "code",
   "execution_count": 14,
   "metadata": {},
   "outputs": [
    {
     "name": "stdout",
     "output_type": "stream",
     "text": [
      "[3]\n",
      "do you want another card, yes or no: urd\n",
      "do you want another card, yes or no: yes\n",
      "[3, 6]\n",
      "do you want another card, yes or no: no\n",
      "computer hand: [6, 7]\n",
      "user hand: [3, 6]\n",
      "game over. computer wins!\n"
     ]
    }
   ],
   "source": [
    "import random\n",
    "\n",
    "computer = []\n",
    "user = []\n",
    "\n",
    "computer.append(random.randrange(1,11))\n",
    "user.append(random.randrange(1,11))\n",
    "print(user)\n",
    "\n",
    "while True:\n",
    "    game_over = input('do you want another card, yes or no: ')\n",
    "    if game_over == \"no\":\n",
    "        if sum(user) > sum(computer):\n",
    "            print(\"computer hand: \" + str(computer))\n",
    "            print(\"user hand: \" + str(user))\n",
    "            print (\"game over. user wins!\")\n",
    "            break\n",
    "        if sum(user) < sum(computer):\n",
    "            print(\"computer hand: \" + str(computer))\n",
    "            print(\"user hand: \" + str(user))\n",
    "            print(\"game over. computer wins!\")\n",
    "            break\n",
    "    \n",
    "    if game_over == \"yes\":\n",
    "        computer.append(random.randrange(1,11))\n",
    "        user.append(random.randrange(1,11))\n",
    "        print(user)\n",
    "        \n",
    "        if sum(computer) == 21:\n",
    "            print(\"computer hand: \" + str(computer))\n",
    "            print(\"user hand: \" + str(user))\n",
    "            print(\"21! computer wins!\")\n",
    "            break\n",
    "        elif sum(user) == 21:\n",
    "            print(\"computer hand: \" + str(computer))\n",
    "            print(\"user hand: \" + str(user))\n",
    "            print(\"21! you win!\")\n",
    "            break\n",
    "        elif sum(user) > 21:\n",
    "            print(\"computer hand: \" + str(computer))\n",
    "            print(\"user hand: \" + str(user))\n",
    "            print(\"you lose ):\")\n",
    "            break\n",
    "        elif sum(computer) > 21:\n",
    "            print(\"computer hand: \" + str(computer))\n",
    "            print(\"user hand: \" + str(user))\n",
    "            print(\"computer over 21. you win by default!\")\n",
    "            break\n",
    "        elif where_user < 21:\n",
    "            feeling_lucky2=input('do you want another card? yes or no: ')\n",
    "            if feeling_lucky2 == \"yes\":\n",
    "                computer.append(random.randrange(1,11))\n",
    "                user.append(random.randrange(1,11))\n",
    "                print(user)\n",
    "                where_user=(sum(user))\n",
    "                where_comp=(sum(computer))"
   ]
  },
  {
   "cell_type": "markdown",
   "metadata": {},
   "source": [
    "# Assignment 3\n",
    "\n",
    "Redo assignment 2 but create a function that you call to deal a new card for a player (generate random numbers and add it to a players list). Then create a second function that evaluates who's the winner and prints the final counts."
   ]
  },
  {
   "cell_type": "code",
   "execution_count": null,
   "metadata": {},
   "outputs": [
    {
     "name": "stdout",
     "output_type": "stream",
     "text": [
      "[10]\n",
      "do you want another card, yes or no: yes\n",
      "do you want another card, yes or no: yes\n"
     ]
    }
   ],
   "source": [
    "import random\n",
    "\n",
    "player_one=[]\n",
    "player_two=[]\n",
    "\n",
    "#don't understand functions!!!! what goes in the ( ) ?????\n",
    "\n",
    "def dealer():\n",
    "    player_one.append(random.randrange(1,11))\n",
    "    player_two.append(random.randrange(1,11))\n",
    "    print(player_one)\n",
    "\n",
    "dealer()\n",
    "\n",
    "while True:\n",
    "    game_over = input('do you want another card, yes or no: ')\n",
    "if game_over == \"no\":\n",
    "        \n",
    "    if game_over == \"yes\":\n",
    "        dealer()"
   ]
  },
  {
   "cell_type": "markdown",
   "metadata": {},
   "source": [
    "# Assignment 4\n",
    "\n",
    "Similar to the in-class exercise, create a dictionary of books and their checkout status. Write a loop that let's a user borrow a book and return a message that informs them if the book is in the library, if it is already checked out or if it was successfully checked out. Also record who checked out a book (by asking the user for their name) and give the user the option to 1) see all the books that a particular user has checked out and 2) see the user who has checked out a book. Use functions to structure your code. You can use the response to the question of which book a user wants to checkout to exit the program or to show all the books a user has checked out."
   ]
  },
  {
   "cell_type": "code",
   "execution_count": null,
   "metadata": {},
   "outputs": [
    {
     "name": "stdout",
     "output_type": "stream",
     "text": [
      "Welkommen in die Bibliothek!\n",
      "do you want to 'checkout' or 'exit'?: checkout\n",
      "Are you Anna, Julia, or Ken?: Anna\n",
      "Currently checked out for Anna: ['Alice in Wonderland']\n",
      "enter book title: HGGG\n",
      "You checked out HGGG\n",
      "Are you Anna, Julia, or Ken?: Anna\n",
      "Currently checked out for Anna: ['Alice in Wonderland', 'HGGG']\n",
      "enter book title: Alice in Wonderland\n",
      "this book is currently checked out. reserve?\n",
      "Are you Anna, Julia, or Ken?: Ken\n",
      "Currently checked out for Ken: ['Romeo and Juliet']\n",
      "enter book title: HGGG\n",
      "You checked out HGGG\n"
     ]
    }
   ],
   "source": [
    "print(\"Welkommen in die Bibliothek!\")\n",
    "lib_books={\"Alice in Wonderland\": False, \"HGGG\": True, \"Romeo and Juliet\": False}\n",
    "checked_out_Anna=[\"Alice in Wonderland\"]\n",
    "checked_out_Julia=[]\n",
    "checked_out_Ken=[\"Romeo and Juliet\"]\n",
    "\n",
    "business=input(\"do you want to 'checkout' or 'exit'?: \")\n",
    "\n",
    "while True:\n",
    "    if business == \"exit\":\n",
    "        print('Bis spater!')\n",
    "        break\n",
    "        \n",
    "    elif business == \"checkout\":\n",
    "        user_name=input(\"Are you Anna, Julia, or Ken?: \") \n",
    "        if user_name == \"Anna\":\n",
    "            print(\"Currently checked out for Anna: \" + str(checked_out_Anna))\n",
    "        if user_name == \"Julia\":\n",
    "            print(\"Currently checked out for Julia: \" + str(checked_out_Julia))\n",
    "        if user_name == \"Ken\":\n",
    "                print(\"Currently checked out for Ken: \" + str(checked_out_Ken))\n",
    "    \n",
    "        title=input(\"enter book title: \")\n",
    "        if title not in lib_books:\n",
    "            print(title + \" is not in the library\")\n",
    "        elif not lib_books[title]:\n",
    "            print('this book is currently checked out. reserve?')\n",
    "        elif lib_books[title]:\n",
    "            checked_out_Anna.append(title)\n",
    "            print(\"You checked out \" + title)    \n",
    "\n",
    "business=input(\"do you want to 'checkout' or 'exit'?: \")\n",
    "\n",
    "#still don't understand functions.\n",
    "\n",
    "\n",
    "#def checkout_process(user_name, lib_book(title)):\n",
    "   # if title not in lib_books:\n",
    "    #    print(title + \" is not in the library\")\n",
    "  #  elif not lib_books[title]:\n",
    "   #print('this book is currently checked out. reserve?')\n",
    "    #elif lib_books[title]:\n",
    "      #  checked_out.append(title)\n",
    "     #   print(\"You checked out \" + title)\n"
   ]
  },
  {
   "cell_type": "code",
   "execution_count": null,
   "metadata": {},
   "outputs": [],
   "source": []
  },
  {
   "cell_type": "code",
   "execution_count": null,
   "metadata": {},
   "outputs": [],
   "source": []
  }
 ],
 "metadata": {
  "kernelspec": {
   "display_name": "Python 3",
   "language": "python",
   "name": "python3"
  }
 },
 "nbformat": 4,
 "nbformat_minor": 2
}
