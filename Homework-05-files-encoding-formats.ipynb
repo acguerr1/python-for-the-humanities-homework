{
 "cells": [
  {
   "cell_type": "markdown",
   "metadata": {},
   "source": [
    "# Assignment 1\n",
    "\n",
    "Finish assignment 2 from the last homework. Here is the assignment text again:\n",
    "\n",
    "Create a class that represents a project (e.g. called Project). The class should have the following properties:\n",
    "\n",
    "* It should be initialized with a path to a directory that holds several folders.\n",
    "* It should have a list of collections objects (see below).\n",
    "* There should be a method called load_collections that will for each folder in the directory passed to the constructor, create a collection and name it according to the folder name and set the path to the folder in the collection.\n",
    "\n",
    "Create a class that represents a collection of texts (e.g. called Collection). The class should have the following properties:\n",
    "\n",
    "* A path to a folder in the filesystem.\n",
    "* A name for the collection.\n",
    "* a list of Text objects.\n",
    "* A method called load_files that will create a Text object for each file in the folder specified for the collection.\n",
    "\n",
    "Create a folder that has several subfolders. Each subfolder should have a year as name (e.g. 1991, 1992, 1993, ...). Put a couple of plain text files into each folder. Now create a Project object and initialize it with the path to the folder (that has the year subfolders). Now call load_collections on the project and load_files on each collection."
   ]
  },
  {
   "cell_type": "code",
   "execution_count": null,
   "metadata": {},
   "outputs": [],
   "source": [
    "import os\n",
    "all_files=[]\n",
    "for path, dirs, files in os.walk(\"/Users/Anna/Documents/python-for-the-humanities/HW4\"):\n",
    "    for file in files:\n",
    "        if not file.startswith(\".\"):\n",
    "            f1=Text(os.path.join(path, file), \"Anna\")\n",
    "            all_files.append(f1)\n",
    "            print(f1.filepath)\n",
    "\n",
    "class Project:\n",
    "    def __init__(self, filepath, author, size=0):\n",
    "        self.filepath = filepath\n",
    "        self.author = author\n",
    "        self.size = size\n",
    "        \n",
    "    def load_collections(self):\n",
    "        with open(self.filepath, 'r') as file:\n",
    "            return file.read()\n",
    "    \n",
    "class Collection:\n",
    "    def __init__(self, filepath, collname, textlist):\n",
    "        self.creation_date = creation_date\n",
    "        self.creator = creator\n",
    "        self.texts = []\n",
    "        \n",
    "    def load_files(self):\n",
    "        with open(self.filepath, 'r') as file:\n",
    "            return file.read()\n",
    "        \n",
    "    def calculate_size(self):\n",
    "        return sum([t.size for t in self.texts])"
   ]
  },
  {
   "cell_type": "markdown",
   "metadata": {},
   "source": [
    "# Assignment 2\n",
    "\n",
    "Write a function that reads and parses the JSON file in this directory called \"HW-05-data.json\". The file contains a list of references. For each entry in the list print the title, the authors, and the item type.\n",
    "\n",
    "Then let the user enter new entries (consisting of at least a title, an author, and an item type). Let the user enter as many entries as they like. Write the new entries as JSON into a new file.\n"
   ]
  },
  {
   "cell_type": "code",
   "execution_count": 76,
   "metadata": {},
   "outputs": [
    {
     "name": "stdout",
     "output_type": "stream",
     "text": [
      "3 Elements Available in All TEI Documents - The TEI Guidelines\n",
      "[{'name': ' TEI Consortium', 'uri': None, 'localAuthorityId': None, 'firstName': '', 'lastName': 'TEI Consortium', 'positionInList': 0, 'affiliations': None}]\n",
      "WEBPAGE\n",
      "Content Negotiation: why it is useful, and how to make it work\n",
      "[]\n",
      "BLOG_POST\n",
      "Linked Data - Design Issues\n",
      "[{'name': 'Tim Berners-Lee', 'uri': None, 'localAuthorityId': None, 'firstName': 'Tim', 'lastName': 'Berners-Lee', 'positionInList': 0, 'affiliations': None}]\n",
      "WEBPAGE\n",
      "Markup systems and the future of scholarly text processing\n",
      "[{'name': 'James H. Coombs', 'uri': None, 'localAuthorityId': None, 'firstName': 'James H.', 'lastName': 'Coombs', 'positionInList': 0, 'affiliations': None}, {'name': 'Allen H. Renear', 'uri': None, 'localAuthorityId': None, 'firstName': 'Allen H.', 'lastName': 'Renear', 'positionInList': 1, 'affiliations': None}, {'name': 'Steven J. DeRose', 'uri': None, 'localAuthorityId': None, 'firstName': 'Steven J.', 'lastName': 'DeRose', 'positionInList': 2, 'affiliations': None}]\n",
      "JOURNAL_ARTICLE\n",
      "Provenance and Annotation of Data and Processes - Springer\n",
      "[]\n",
      "WEBPAGE\n",
      "Provenance and Annotations for Linked Data\n",
      "[{'name': 'Kai Eckert', 'uri': None, 'localAuthorityId': None, 'firstName': 'Kai', 'lastName': 'Eckert', 'positionInList': 0, 'affiliations': None}]\n",
      "CONFERENCE_PAPER\n",
      "RDF 1.1 Concepts and Abstract Syntax\n",
      "[{'name': ' W3C', 'uri': None, 'localAuthorityId': None, 'firstName': '', 'lastName': 'W3C', 'positionInList': 0, 'affiliations': None}]\n",
      "WEBPAGE\n",
      "Representing Contextualized Data using Semantic Web Tools\n",
      "[{'name': 'Robert Macgregor', 'uri': None, 'localAuthorityId': None, 'firstName': 'Robert', 'lastName': 'Macgregor', 'positionInList': 0, 'affiliations': None}, {'name': 'In-Young Ko', 'uri': None, 'localAuthorityId': None, 'firstName': 'In-Young', 'lastName': 'Ko', 'positionInList': 1, 'affiliations': None}]\n",
      "CONFERENCE_PAPER\n",
      "Term Extraction and Automatic Indexing\n",
      "[{'name': 'Christian Jacquemin', 'uri': None, 'localAuthorityId': None, 'firstName': 'Christian', 'lastName': 'Jacquemin', 'positionInList': 0, 'affiliations': None}, {'name': 'Didier Bourigault', 'uri': None, 'localAuthorityId': None, 'firstName': 'Didier', 'lastName': 'Bourigault', 'positionInList': 1, 'affiliations': None}, {'name': 'Ruslan Mitkov', 'uri': None, 'localAuthorityId': None, 'firstName': 'Ruslan', 'lastName': 'Mitkov', 'positionInList': 2, 'affiliations': None}]\n",
      "BOOK_SECTION\n",
      "The Anatomy of a Nanopublication\n",
      "[{'name': 'Paul Groth', 'uri': None, 'localAuthorityId': None, 'firstName': 'Paul', 'lastName': 'Groth', 'positionInList': 0, 'affiliations': None}, {'name': 'Andrew Gibson', 'uri': None, 'localAuthorityId': None, 'firstName': 'Andrew', 'lastName': 'Gibson', 'positionInList': 1, 'affiliations': None}, {'name': 'Jan Velterop', 'uri': None, 'localAuthorityId': None, 'firstName': 'Jan', 'lastName': 'Velterop', 'positionInList': 2, 'affiliations': None}]\n",
      "JOURNAL_ARTICLE\n",
      "add author:Hrry\n",
      "add title:aodsf\n",
      "add item type:asd\n"
     ]
    },
    {
     "ename": "NameError",
     "evalue": "name 'new_entry' is not defined",
     "output_type": "error",
     "traceback": [
      "\u001b[0;31m---------------------------------------------------------------------------\u001b[0m",
      "\u001b[0;31mNameError\u001b[0m                                 Traceback (most recent call last)",
      "\u001b[0;32m<ipython-input-76-6322819453e9>\u001b[0m in \u001b[0;36m<module>\u001b[0;34m\u001b[0m\n\u001b[1;32m     22\u001b[0m         \u001b[0mnew_title\u001b[0m \u001b[0;34m=\u001b[0m \u001b[0minput\u001b[0m\u001b[0;34m(\u001b[0m\u001b[0;34m\"add title:\"\u001b[0m\u001b[0;34m)\u001b[0m\u001b[0;34m\u001b[0m\u001b[0;34m\u001b[0m\u001b[0m\n\u001b[1;32m     23\u001b[0m         \u001b[0mnew_itemtype\u001b[0m\u001b[0;34m=\u001b[0m\u001b[0minput\u001b[0m\u001b[0;34m(\u001b[0m\u001b[0;34m\"add item type:\"\u001b[0m\u001b[0;34m)\u001b[0m\u001b[0;34m\u001b[0m\u001b[0;34m\u001b[0m\u001b[0m\n\u001b[0;32m---> 24\u001b[0;31m         \u001b[0mf\u001b[0m\u001b[0;34m.\u001b[0m\u001b[0mwritelines\u001b[0m\u001b[0;34m(\u001b[0m\u001b[0mnew_entry\u001b[0m\u001b[0;34m)\u001b[0m\u001b[0;34m\u001b[0m\u001b[0;34m\u001b[0m\u001b[0m\n\u001b[0m",
      "\u001b[0;31mNameError\u001b[0m: name 'new_entry' is not defined"
     ]
    }
   ],
   "source": [
    "import json\n",
    "\n",
    "with open(\"/Users/Anna/Documents/python-for-the-humanities/python-for-the-humanities-homework/HW-05-data.json\") as d:\n",
    "    data=json.load(d)\n",
    "    get_items=data[\"items\"]\n",
    "    #print(get_items)\n",
    "    \n",
    "for item in get_items:\n",
    "    print(item[\"title\"])\n",
    "    print(item[\"authors\"])\n",
    "    print(item[\"itemType\"])\n",
    "\n",
    "class New_Entry:\n",
    "    def __init__ (self, title, authors, itemType):\n",
    "        self.title = title\n",
    "        self.authors = authors\n",
    "        self.itemType = itemType\n",
    "        \n",
    "    def add_to_json (self):\n",
    "        with open('/Users/Anna/Documents/python-for-the-humanities/python-for-the-humanities-homework/HW-05-data.json', 'w') as f:\n",
    "            new_entry\n",
    "            f.writelines(new_entry)"
   ]
  },
  {
   "cell_type": "markdown",
   "metadata": {},
   "source": [
    "# Assignment 3\n",
    "\n",
    "Create a file called README.md in your homework GitHub repository. Use Markdown to format the text on that page. You can put whatever text you like into the file, but it should contain at least:\n",
    "\n",
    "- multiple paragraphs of text\n",
    "- one heading\n",
    "- one subheading\n",
    "- one bullet point list\n",
    "- one numbered list\n",
    "- one link to another webpage\n",
    "- an italic and a bold word"
   ]
  },
  {
   "cell_type": "code",
   "execution_count": null,
   "metadata": {},
   "outputs": [],
   "source": [
    "# no code here; add a new file to your GitHub repo instead"
   ]
  },
  {
   "cell_type": "markdown",
   "metadata": {},
   "source": [
    "# Assignment 4\n",
    "\n",
    "Start working on your project and be ready to give a brief progress report in class next week."
   ]
  },
  {
   "cell_type": "code",
   "execution_count": null,
   "metadata": {},
   "outputs": [],
   "source": []
  }
 ],
 "metadata": {
  "kernelspec": {
   "display_name": "Python 3",
   "language": "python",
   "name": "python3"
  },
  "language_info": {
   "codemirror_mode": {
    "name": "ipython",
    "version": 3
   },
   "file_extension": ".py",
   "mimetype": "text/x-python",
   "name": "python",
   "nbconvert_exporter": "python",
   "pygments_lexer": "ipython3",
   "version": "3.7.3"
  }
 },
 "nbformat": 4,
 "nbformat_minor": 2
}
