{
 "cells": [
  {
   "cell_type": "markdown",
   "metadata": {},
   "source": [
    "# Assignment 1\n",
    "\n",
    "Creat a class that represents a textfile (e.g. called `Text`). The class should have the following properties:\n",
    "\n",
    "- a variable to hold the path to the file\n",
    "- a variable that holds the type of file (e.g. plaintext, pdf, image)\n",
    "- a variable that holds the filesize\n",
    "- a variable `text` that holds the text content of a file\n",
    "- a method to load the text content of a file into the `text` variable\n",
    "- a method that sets the filesize property of an object according the size of the file at `filepath`\n",
    "- a method that accepts another text object and returns true if that text object is smaller in size than the current one; otherwise false\n",
    "\n",
    "Then create three Text objects and put them in a list. For each element in the list print filepath, type of file, and filesize.\n"
   ]
  },
  {
   "cell_type": "code",
   "execution_count": 62,
   "metadata": {},
   "outputs": [
    {
     "name": "stdout",
     "output_type": "stream",
     "text": [
      "/path/to/my/file1.txt plaintext 10\n",
      "path/to/my/file2.txt plaintext 9\n",
      "path/to/my/file3.txt plaintext 8\n"
     ]
    },
    {
     "data": {
      "text/plain": [
       "<bound method Text.new_and_measure of <__main__.Text object at 0x11155f4a8>>"
      ]
     },
     "execution_count": 62,
     "metadata": {},
     "output_type": "execute_result"
    }
   ],
   "source": [
    "class Text:\n",
    "    def __init__(self, filepath, filetype):\n",
    "        self.path_to_file=filepath\n",
    "        self.file_type=filetype\n",
    "\n",
    "    def insert_meat(self, text):\n",
    "        self.file_text=text\n",
    "        \n",
    "    def file_size(self, filesize):\n",
    "        self.file_size=filesize\n",
    "        #this does not set the size to according to size of object at filepath becasue I do not know what that means\n",
    "        \n",
    "    def new_and_measure(self):\n",
    "        tester=print(input(\"what file would you like to test against?\"))\n",
    "        if size(tester.file_size) > size(self.file_size):\n",
    "            print(\"true\")\n",
    "        \n",
    "            \n",
    "t1= Text(\"/path/to/my/file1.txt\", \"plaintext\")\n",
    "t2= Text(\"path/to/my/file2.txt\", \"plaintext\")\n",
    "t3= Text(\"path/to/my/file3.txt\", \"plaintext\")\n",
    "\n",
    "t1.insert_meat(\"LALALA THIS IS GOING INTO T1\")\n",
    "t2.insert_meat(\"LALALA THIS IS GOING INTO T2 cool\")\n",
    "t3.insert_meat(\"LALALA THIS IS GOING INTO T3 WAHOOOOO\")\n",
    "\n",
    "t1.file_size(10)\n",
    "t2.file_size(9)\n",
    "t3.file_size(8)\n",
    "\n",
    "all_texts=[]\n",
    "\n",
    "all_texts.append(t1)\n",
    "all_texts.append(t2)\n",
    "all_texts.append(t3)\n",
    "\n",
    "for obj in all_texts:\n",
    "    print(obj.path_to_file, obj.file_type, obj.file_size)\n",
    "    \n",
    "t1.new_and_measure"
   ]
  },
  {
   "cell_type": "markdown",
   "metadata": {},
   "source": [
    "# Assignment 2\n",
    "\n",
    "Create a class that represents a project (e.g. called `Project`). The class should have the following properties:\n",
    "\n",
    "- It should be initialized with a path to a directory that holds several folders.\n",
    "- It should have a list of collections objects (see below).\n",
    "- There should be a method called `load_collections` that will for each folder in the directory passed to the constructor, create a collection and name it according to the folder name and set the path to the folder in the collection.\n",
    "\n",
    "Create a class that represents a collection of texts (e.g. called `Collection`). The class should have the following properties:\n",
    "\n",
    "- A path to a folder in the filesystem.\n",
    "- A name for the collection.\n",
    "- a list of `Text` objects.\n",
    "- A method called `load_files` that will create a `Text` object for each file in the folder specified for the collection.\n",
    "\n",
    "Create a folder that has several subfolders. Each subfolder should have a year as name (e.g. 1991, 1992, 1993, ...). Put a couple of plain text files into each folder. Now create a `Project` object and initialize it with the path to the folder (that has the year subfolders). Now call `load_collections` on the project and `load_files` on each collection."
   ]
  },
  {
   "cell_type": "code",
   "execution_count": 67,
   "metadata": {},
   "outputs": [
    {
     "ename": "SyntaxError",
     "evalue": "EOL while scanning string literal (<ipython-input-67-699612aa3ffb>, line 3)",
     "output_type": "error",
     "traceback": [
      "\u001b[0;36m  File \u001b[0;32m\"<ipython-input-67-699612aa3ffb>\"\u001b[0;36m, line \u001b[0;32m3\u001b[0m\n\u001b[0;31m    self.localdir= r 'C:Users\\User\\Documents\\python-for-the-humanities\\HW4\\'\u001b[0m\n\u001b[0m                                                                            ^\u001b[0m\n\u001b[0;31mSyntaxError\u001b[0m\u001b[0;31m:\u001b[0m EOL while scanning string literal\n"
     ]
    }
   ],
   "source": [
    "#can we do this one together??\n",
    "\n",
    "class Project:\n",
    "    def __init__(self, filename, collec_ist):\n",
    "        self.localdir= r 'C:Users\\User\\Documents\\python-for-the-humanities\\HW4\\'\n",
    "        self.file_name=filename\n",
    "        self.filepath=os.path.join(self.localdir, self.filename)\n",
    "        collection_objects=[]\n",
    "        \n",
    "    def get_data(self):\n",
    "        return self._data\n",
    "        \n",
    "class Collection:\n",
    "    def __init__(self, filepath, collecname, dalist):\n",
    "        self.localdir= r 'C:Users\\User\\Documents\\python-for-the-humanities\\HW4'\n",
    "        self.file_name=filename\n",
    "        self.filepath=os.path.join(self.localdir, self.filename)\n",
    "        \n",
    "    def load_files(self):\n",
    "        meat=[]\n",
    "        for e in texts:\n",
    "            e.file_text\n",
    "            meat.append(e.file_text)\n",
    "            print(\"loading\" + file_text)"
   ]
  },
  {
   "cell_type": "code",
   "execution_count": null,
   "metadata": {},
   "outputs": [],
   "source": []
  }
 ],
 "metadata": {
  "kernelspec": {
   "display_name": "Python 3",
   "language": "python",
   "name": "python3"
  },
  "language_info": {
   "codemirror_mode": {
    "name": "ipython",
    "version": 3
   },
   "file_extension": ".py",
   "mimetype": "text/x-python",
   "name": "python",
   "nbconvert_exporter": "python",
   "pygments_lexer": "ipython3",
   "version": "3.7.3"
  }
 },
 "nbformat": 4,
 "nbformat_minor": 2
}
